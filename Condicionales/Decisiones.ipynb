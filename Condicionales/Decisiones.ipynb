{
 "cells": [
  {
   "cell_type": "markdown",
   "metadata": {
    "slideshow": {
     "slide_type": "slide"
    }
   },
   "source": [
    "# Condicionales en C++\n",
    "___"
   ]
  },
  {
   "cell_type": "markdown",
   "metadata": {
    "slideshow": {
     "slide_type": "slide"
    }
   },
   "source": [
    "# Que aprederemos?\n",
    "* Booleanos\n",
    "* Operaciones comparativas y logicas\n",
    "* Estructuras de control selectivas\n",
    "* Ejemplos de uso"
   ]
  },
  {
   "cell_type": "markdown",
   "metadata": {
    "slideshow": {
     "slide_type": "subslide"
    }
   },
   "source": [
    "## Recordando..."
   ]
  },
  {
   "cell_type": "markdown",
   "metadata": {
    "slideshow": {
     "slide_type": "subslide"
    }
   },
   "source": [
    "<center><img src=\"imagenes/Decision.jpg\" width=\"60%\" height=\"60%\"></center>"
   ]
  },
  {
   "cell_type": "markdown",
   "metadata": {
    "slideshow": {
     "slide_type": "slide"
    }
   },
   "source": [
    "## Booleanos"
   ]
  },
  {
   "cell_type": "markdown",
   "metadata": {
    "slideshow": {
     "slide_type": "subslide"
    }
   },
   "source": [
    "<center><img src=\"imagenes/vf.jpg\"></center>"
   ]
  },
  {
   "cell_type": "markdown",
   "metadata": {
    "slideshow": {
     "slide_type": "subslide"
    }
   },
   "source": [
    "#### Verdad\n",
    "___\n",
    "* Hoy es martes\n",
    "\n",
    "#### Falso\n",
    "___\n",
    "* El sol es verde"
   ]
  },
  {
   "cell_type": "code",
   "execution_count": 1,
   "metadata": {
    "slideshow": {
     "slide_type": "subslide"
    }
   },
   "outputs": [
    {
     "name": "stdout",
     "output_type": "stream",
     "text": [
      "1\n"
     ]
    },
    {
     "data": {
      "text/plain": [
       "@0x7f46c9448b60"
      ]
     },
     "execution_count": 1,
     "metadata": {},
     "output_type": "execute_result"
    }
   ],
   "source": [
    "#include<iostream>\n",
    "using namespace std;\n",
    "bool condicion = true;\n",
    "cout << condicion << endl; // true = 1"
   ]
  },
  {
   "cell_type": "code",
   "execution_count": 2,
   "metadata": {
    "slideshow": {
     "slide_type": "subslide"
    }
   },
   "outputs": [
    {
     "name": "stdout",
     "output_type": "stream",
     "text": [
      "0\n"
     ]
    },
    {
     "data": {
      "text/plain": [
       "@0x7f46c9448b60"
      ]
     },
     "execution_count": 2,
     "metadata": {},
     "output_type": "execute_result"
    }
   ],
   "source": [
    "condicion = false;\n",
    "cout << condicion << endl; // false = 0"
   ]
  },
  {
   "cell_type": "markdown",
   "metadata": {
    "slideshow": {
     "slide_type": "slide"
    }
   },
   "source": [
    "## Y como las creamos?"
   ]
  },
  {
   "cell_type": "markdown",
   "metadata": {
    "slideshow": {
     "slide_type": "slide"
    }
   },
   "source": [
    "## Operaciones comparativas y logicas"
   ]
  },
  {
   "cell_type": "markdown",
   "metadata": {
    "slideshow": {
     "slide_type": "subslide"
    }
   },
   "source": [
    "### comparativos en `int`"
   ]
  },
  {
   "cell_type": "code",
   "execution_count": 4,
   "metadata": {
    "slideshow": {
     "slide_type": "fragment"
    }
   },
   "outputs": [],
   "source": [
    "a = 9; \n",
    "b = 6;\n",
    "// menor que (<)\n",
    "if(a < b){\n",
    "    cout << a << \" es menor a \" << b << endl;\n",
    "}\n",
    " // mayor que (>)\n",
    "if(b > a){\n",
    "    cout << b << \" es mayor a \" << a << endl;\n",
    "}"
   ]
  },
  {
   "cell_type": "code",
   "execution_count": 5,
   "metadata": {
    "slideshow": {
     "slide_type": "subslide"
    }
   },
   "outputs": [
    {
     "name": "stdout",
     "output_type": "stream",
     "text": [
      "6 es menor o igual a 6\n",
      "7 es mayor o igual a 6\n"
     ]
    }
   ],
   "source": [
    "a = 6;\n",
    "// menor o igual que\n",
    "if(a <= b){\n",
    "    cout << a << \" es menor o igual a \" << b << endl;\n",
    "}\n",
    "b = 7;\n",
    "// mayor o igual que\n",
    "if(b >= a){\n",
    "    cout << b << \" es mayor o igual a \" << a << endl;\n",
    "}"
   ]
  },
  {
   "cell_type": "code",
   "execution_count": 6,
   "metadata": {
    "slideshow": {
     "slide_type": "subslide"
    }
   },
   "outputs": [
    {
     "name": "stdout",
     "output_type": "stream",
     "text": [
      "20 es igual a 20\n",
      "20 es diferente a 90\n"
     ]
    }
   ],
   "source": [
    "int c = 20, d = 20, e = 90;\n",
    "// igual que (==)\n",
    "if(c == d){\n",
    "    cout << c << \" es igual a \" << d << endl;\n",
    "}\n",
    " // diferente que (!=)\n",
    "if(d != e){\n",
    "    cout << d << \" es diferente a \" << e << endl;\n",
    "}"
   ]
  },
  {
   "cell_type": "markdown",
   "metadata": {
    "slideshow": {
     "slide_type": "subslide"
    }
   },
   "source": [
    "### comparativos en `string`"
   ]
  },
  {
   "cell_type": "code",
   "execution_count": 7,
   "metadata": {
    "slideshow": {
     "slide_type": "subslide"
    }
   },
   "outputs": [
    {
     "name": "stdout",
     "output_type": "stream",
     "text": [
      "la letra esta en la palabra\n"
     ]
    }
   ],
   "source": [
    "#include<string>\n",
    "char letra = 'O';\n",
    "string palabra = \"OMIJAL\";\n",
    "if(letra == palabra[0]){ //comparar caracteres\n",
    "    cout << \"la letra esta en la palabra\" << endl;\n",
    "} "
   ]
  },
  {
   "cell_type": "code",
   "execution_count": 8,
   "metadata": {
    "slideshow": {
     "slide_type": "subslide"
    }
   },
   "outputs": [
    {
     "name": "stdout",
     "output_type": "stream",
     "text": [
      "la letra es mayor\n",
      "la letra es menor\n"
     ]
    }
   ],
   "source": [
    "letra = 'K';\n",
    "if(letra > palabra[3]){//comparar si un caracter es mayor a otro\n",
    "    cout << \"la letra es mayor\" << endl;\n",
    "} \n",
    "if(letra < palabra[5]){//comparar si un caracter es menor a otro\n",
    "    cout << \"la letra es menor\" << endl;\n",
    "} "
   ]
  },
  {
   "cell_type": "markdown",
   "metadata": {
    "slideshow": {
     "slide_type": "subslide"
    }
   },
   "source": [
    "### Tabla ascii\n",
    "<center><img src=\"imagenes/ascii.webp\"></center>"
   ]
  },
  {
   "cell_type": "code",
   "execution_count": 9,
   "metadata": {
    "slideshow": {
     "slide_type": "subslide"
    }
   },
   "outputs": [
    {
     "name": "stdout",
     "output_type": "stream",
     "text": [
      "manzana verde no es una manzana roja\n"
     ]
    }
   ],
   "source": [
    "string palabra1 = \"manzana verde\";\n",
    "string palabra2 = \"manzana roja\";\n",
    "/*compare(): \n",
    " = 0 : las palabras son iguales\n",
    " < 0 : es menor a la palabra que se compara\n",
    " > 0 : son diferentes\n",
    "*/\n",
    "//comparar una palabra con otra\n",
    "if (palabra1.compare(palabra2) != 0){\n",
    "    cout << palabra1 << \" no es una \" << palabra2 << endl;\n",
    "}"
   ]
  },
  {
   "cell_type": "code",
   "execution_count": 10,
   "metadata": {
    "slideshow": {
     "slide_type": "subslide"
    }
   },
   "outputs": [
    {
     "name": "stdout",
     "output_type": "stream",
     "text": [
      "manzana verde es una manzana\n",
      "ambas son manzanas\n"
     ]
    }
   ],
   "source": [
    "//comparar una seccion de la palabra con otra\n",
    "// (indice, longitud, palabra)\n",
    "if (palabra1.compare(0,7,\"manzana\") == 0){\n",
    "    cout << palabra1 << \" es una manzana\" << endl;\n",
    "}\n",
    "//comparar una seccion de la palabra, con la seccion de otra palabra\n",
    "//(indice, longitud, palabra, indice, longitud)\n",
    "if (palabra1.compare(0,7,palabra2,0,7) == 0){\n",
    "    cout << \"ambas son manzanas\" << endl;\n",
    "}"
   ]
  },
  {
   "cell_type": "markdown",
   "metadata": {
    "slideshow": {
     "slide_type": "subslide"
    }
   },
   "source": [
    "### Logicos\n",
    "___"
   ]
  },
  {
   "cell_type": "markdown",
   "metadata": {
    "slideshow": {
     "slide_type": "subslide"
    }
   },
   "source": [
    "### AND (Y)\n",
    "___"
   ]
  },
  {
   "cell_type": "code",
   "execution_count": 13,
   "metadata": {
    "slideshow": {
     "slide_type": "fragment"
    }
   },
   "outputs": [
    {
     "name": "stdout",
     "output_type": "stream",
     "text": [
      "Producto no disponible\n"
     ]
    }
   ],
   "source": [
    "producto_disponible = false;\n",
    "precio = 51;\n",
    "if(producto_disponible && precio <= 50){\n",
    "    cout << \"Producto comprado\" << endl;\n",
    "}\n",
    "else{\n",
    "    cout << \"Producto no disponible\" << endl;\n",
    "}"
   ]
  },
  {
   "cell_type": "markdown",
   "metadata": {
    "slideshow": {
     "slide_type": "subslide"
    }
   },
   "source": [
    "### OR (O)\n",
    "___"
   ]
  },
  {
   "cell_type": "code",
   "execution_count": 15,
   "metadata": {
    "slideshow": {
     "slide_type": "fragment"
    }
   },
   "outputs": [
    {
     "name": "stdout",
     "output_type": "stream",
     "text": [
      "De que va a querer su agua fresca? Piña\n",
      "No hay agua de Piña\n"
     ]
    }
   ],
   "source": [
    "//string sabor;\n",
    "cout << \"De que va a querer su agua fresca? \";\n",
    "cin >> sabor;\n",
    "if(sabor.compare(\"Jamaica\")== 0 || sabor.compare(\"Limon\") == 0 || sabor.compare(\"Tamarindo\") == 0){\n",
    "    cout << \"Tome su agua de \" << sabor << endl;\n",
    "}\n",
    "else{\n",
    "    cout << \"No hay agua de \" << sabor << endl;\n",
    "}"
   ]
  },
  {
   "cell_type": "markdown",
   "metadata": {
    "slideshow": {
     "slide_type": "subslide"
    }
   },
   "source": [
    "### NOT (NO)\n",
    "___"
   ]
  },
  {
   "cell_type": "code",
   "execution_count": 17,
   "metadata": {
    "slideshow": {
     "slide_type": "fragment"
    }
   },
   "outputs": [
    {
     "name": "stdout",
     "output_type": "stream",
     "text": [
      "Hoy no es 12 de Noviembre\n"
     ]
    }
   ],
   "source": [
    "dia = 13;\n",
    "if(not(dia == 12)){ // dia != 12\n",
    "    cout << \"Hoy no es 12 de Noviembre\" << endl;\n",
    "}"
   ]
  },
  {
   "cell_type": "markdown",
   "metadata": {
    "slideshow": {
     "slide_type": "slide"
    }
   },
   "source": [
    "## Estrucuturas de control selectiva"
   ]
  },
  {
   "cell_type": "markdown",
   "metadata": {
    "slideshow": {
     "slide_type": "subslide"
    }
   },
   "source": [
    "### Simple : `if` (si)"
   ]
  },
  {
   "cell_type": "markdown",
   "metadata": {
    "slideshow": {
     "slide_type": "fragment"
    }
   },
   "source": [
    "~~~\n",
    "if(condicion){\n",
    "    //aqui va tu codigo si la condicion se cumple\n",
    "}\n",
    "~~~"
   ]
  },
  {
   "cell_type": "code",
   "execution_count": 19,
   "metadata": {
    "slideshow": {
     "slide_type": "subslide"
    }
   },
   "outputs": [
    {
     "name": "stdout",
     "output_type": "stream",
     "text": [
      "Ingresa un dia del mes: 12\n"
     ]
    }
   ],
   "source": [
    "//int today;\n",
    "cout << \"Ingresa un dia del mes: \";\n",
    "cin >> today;\n",
    "if(today == 20){\n",
    "    cout << \"Hoy 20 de noviembre es aniversario de la Revolucion Mexicana\" << endl;\n",
    "}"
   ]
  },
  {
   "cell_type": "markdown",
   "metadata": {
    "slideshow": {
     "slide_type": "subslide"
    }
   },
   "source": [
    "### Doble : `else` (de lo contrario )"
   ]
  },
  {
   "cell_type": "markdown",
   "metadata": {
    "slideshow": {
     "slide_type": "fragment"
    }
   },
   "source": [
    "~~~\n",
    "if(condicion){\n",
    "    //aqui va tu codigo si la condicion se cumple\n",
    "}\n",
    "else{\n",
    "    //aqui va tu codigo si la condicion  no se cumple\n",
    "}\n",
    "~~~"
   ]
  },
  {
   "cell_type": "code",
   "execution_count": 21,
   "metadata": {
    "slideshow": {
     "slide_type": "subslide"
    }
   },
   "outputs": [
    {
     "name": "stdout",
     "output_type": "stream",
     "text": [
      "Tienes suerte, sube al camion\n"
     ]
    }
   ],
   "source": [
    "//bool \n",
    "hay_camion = true;\n",
    "if(hay_camion){\n",
    "    cout << \"Tienes suerte, sube al camion\" << endl;\n",
    "}\n",
    "else{\n",
    "    cout << \"Suerte para la proxima\" << endl;\n",
    "}"
   ]
  },
  {
   "cell_type": "markdown",
   "metadata": {
    "slideshow": {
     "slide_type": "subslide"
    }
   },
   "source": [
    "### Multiple 1 : `else if` (de lo contrario, si)"
   ]
  },
  {
   "cell_type": "markdown",
   "metadata": {
    "slideshow": {
     "slide_type": "subslide"
    }
   },
   "source": [
    "~~~\n",
    "if(condicion){\n",
    "    //aqui va tu codigo si la condicion se cumple\n",
    "}\n",
    "else if(otra_condicion){\n",
    "    //aqui va tu codigo, si la primera condicion no se cumple, pero la siguiente si\n",
    "}\n",
    "else{\n",
    "    //aqui va tu codigo si la condicion  no se cumple\n",
    "}\n",
    "~~~"
   ]
  },
  {
   "cell_type": "code",
   "execution_count": 23,
   "metadata": {
    "slideshow": {
     "slide_type": "subslide"
    }
   },
   "outputs": [
    {
     "name": "stdout",
     "output_type": "stream",
     "text": [
      "Elija una operacion aritmetica: {+, -, *,/} :$\n",
      "Ingrese 2 numeros: 1\n",
      "2\n",
      "Operacion no valida\n"
     ]
    }
   ],
   "source": [
    "//char operacion;\n",
    "//nt n1, n2;\n",
    "cout << \"Elija una operacion aritmetica: {+, -, *,/} :\";\n",
    "cin >> operacion;\n",
    "cout << \"Ingrese 2 numeros: \";\n",
    "cin >> n1;\n",
    "cin >> n2;\n",
    "if(operacion == '+')\n",
    "    cout << n1 << \" + \" << n2 << \" = \"<< n1 + n2 << endl;\n",
    "else if(operacion == '-')\n",
    "    cout << n1 << \" - \" << n2 << \" = \"<< n1 - n2 << endl;\n",
    "else if(operacion == '*')\n",
    "    cout << n1 << \" * \" << n2 << \" = \"<< n1 * n2 << endl;    \n",
    "else if(operacion == '/')\n",
    "    cout << n1 << \" / \" << n2 << \" = \"<< n1 / n2 << endl;    \n",
    "else\n",
    "    cout << \"Operacion no valida\" << endl;"
   ]
  },
  {
   "cell_type": "markdown",
   "metadata": {
    "slideshow": {
     "slide_type": "subslide"
    }
   },
   "source": [
    "### Multiple 2 : `switch`"
   ]
  },
  {
   "cell_type": "markdown",
   "metadata": {
    "slideshow": {
     "slide_type": "subslide"
    }
   },
   "source": [
    "~~~\n",
    "switch (opcion)\n",
    "{\n",
    "    case opcion1: \n",
    "        //aqui va el codigo si la opcion es opcion1\n",
    "        break; //break indica a C++ que el codigo ha terminado y \n",
    "               //no debe seguir comparando con las demas opciones\n",
    "    case opcion2: \n",
    "        //aqui va el codigo si la opcion es opcion2\n",
    "        break;\n",
    "    default: \n",
    "        //aqui va el codigo si la opcion no es ninguna de las opciones anteriores \n",
    "        break;\n",
    "}\n",
    "~~~"
   ]
  },
  {
   "cell_type": "code",
   "execution_count": null,
   "metadata": {
    "slideshow": {
     "slide_type": "subslide"
    }
   },
   "outputs": [],
   "source": [
    "cout << \"Elija una operacion aritmetica: {+, -, *,/} :\";\n",
    "cin >> operacion;\n",
    "cout << \"Ingrese 2 numeros: \";\n",
    "cin >> n1;\n",
    "cin >> n2;\n",
    "switch(operacion){\n",
    "    case '+':\n",
    "        cout << n1 << \" + \" << n2 << \" = \"<< n1 + n2 << endl;\n",
    "        break;\n",
    "    case '-':\n",
    "        cout << n1 << \" - \" << n2 << \" = \"<< n1 + n2 << endl;\n",
    "        break;\n",
    "    case '*':\n",
    "        cout << n1 << \" * \" << n2 << \" = \"<< n1 + n2 << endl;  \n",
    "        break;\n",
    "    case '/':\n",
    "        cout << n1 << \" / \" << n2 << \" = \"<< n1 + n2 << endl;  \n",
    "        break;\n",
    "    default:\n",
    "        cout << \"Operacion no valida\" << endl;\n",
    "        break;\n",
    "}  \n"
   ]
  },
  {
   "cell_type": "markdown",
   "metadata": {
    "slideshow": {
     "slide_type": "subslide"
    }
   },
   "source": [
    "### Anidadas `if(){if()}`"
   ]
  },
  {
   "cell_type": "code",
   "execution_count": 24,
   "metadata": {
    "slideshow": {
     "slide_type": "subslide"
    }
   },
   "outputs": [
    {
     "name": "stdout",
     "output_type": "stream",
     "text": [
      "23\n",
      "El numero es impar\n"
     ]
    }
   ],
   "source": [
    "int numero;\n",
    "cin >> numero;\n",
    "if(numero > 0){\n",
    "    if(numero % 2 == 0){\n",
    "        cout << \"El numero es par\" << endl;\n",
    "    }\n",
    "    else{\n",
    "        cout << \"El numero es impar\" << endl;\n",
    "    }\n",
    "}\n",
    "else{\n",
    "    cout << \"El numero es menor a cero\" << endl;\n",
    "}"
   ]
  },
  {
   "cell_type": "markdown",
   "metadata": {
    "slideshow": {
     "slide_type": "slide"
    }
   },
   "source": [
    "# Actividad\n",
    "___\n",
    "## Resolver los ejercicios de OmegaUp"
   ]
  }
 ],
 "metadata": {
  "celltoolbar": "Slideshow",
  "kernelspec": {
   "display_name": "C++11",
   "language": "C++11",
   "name": "xcpp11"
  },
  "language_info": {
   "codemirror_mode": "text/x-c++src",
   "file_extension": ".cpp",
   "mimetype": "text/x-c++src",
   "name": "c++",
   "version": "-std=c++11"
  }
 },
 "nbformat": 4,
 "nbformat_minor": 2
}

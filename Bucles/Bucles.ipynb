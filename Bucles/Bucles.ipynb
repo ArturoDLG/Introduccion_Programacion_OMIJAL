{
 "cells": [
  {
   "cell_type": "markdown",
   "metadata": {
    "slideshow": {
     "slide_type": "slide"
    }
   },
   "source": [
    "# Bucles en C++"
   ]
  },
  {
   "cell_type": "markdown",
   "metadata": {
    "slideshow": {
     "slide_type": "slide"
    }
   },
   "source": [
    "## Que aprenderemos?\n",
    "* Que son bucles\n",
    "* Estructuras de bucle (repeticiones)\n",
    "* Ejemplos de uso"
   ]
  },
  {
   "cell_type": "markdown",
   "metadata": {
    "slideshow": {
     "slide_type": "slide"
    }
   },
   "source": [
    "<center><img src=\"imagenes/Bucles.jpg\"></center>"
   ]
  },
  {
   "cell_type": "markdown",
   "metadata": {
    "slideshow": {
     "slide_type": "slide"
    }
   },
   "source": [
    "## Bucles condicionales"
   ]
  },
  {
   "cell_type": "markdown",
   "metadata": {
    "slideshow": {
     "slide_type": "subslide"
    }
   },
   "source": [
    "## `while`"
   ]
  },
  {
   "cell_type": "markdown",
   "metadata": {
    "slideshow": {
     "slide_type": "subslide"
    }
   },
   "source": [
    "~~~\n",
    "while(condicion){\n",
    "    //aqui va el bloque de codigo\n",
    "}\n",
    "~~~"
   ]
  },
  {
   "cell_type": "code",
   "execution_count": 1,
   "metadata": {
    "slideshow": {
     "slide_type": "subslide"
    }
   },
   "outputs": [
    {
     "name": "stdout",
     "output_type": "stream",
     "text": [
      "0 1 2 3 4 "
     ]
    }
   ],
   "source": [
    "#include<iostream>\n",
    "using namespace std;\n",
    "int i = 0;\n",
    "while(i < 5){//imprimir los numeros de 0 a 4\n",
    "    cout << i << \" \";\n",
    "    i++;\n",
    "}"
   ]
  },
  {
   "cell_type": "code",
   "execution_count": 2,
   "metadata": {
    "slideshow": {
     "slide_type": "subslide"
    }
   },
   "outputs": [
    {
     "name": "stdout",
     "output_type": "stream",
     "text": [
      "7\n",
      "7 es primo\n"
     ]
    }
   ],
   "source": [
    "int primo, divisor = 2;\n",
    "bool es_primo = true; // variable bandera\n",
    "cin >> primo;\n",
    "while(divisor < primo){\n",
    "    if(primo % divisor == 0){\n",
    "        es_primo = false;\n",
    "        break; // break interrumpe un bucle\n",
    "    }\n",
    "    divisor++;\n",
    "}\n",
    "if(es_primo)\n",
    "    cout << primo << \" es primo\" << endl;\n",
    "else\n",
    "    cout << primo << \" no es primo\" << endl;"
   ]
  },
  {
   "cell_type": "markdown",
   "metadata": {
    "slideshow": {
     "slide_type": "subslide"
    }
   },
   "source": [
    "## `do while`"
   ]
  },
  {
   "cell_type": "markdown",
   "metadata": {
    "slideshow": {
     "slide_type": "subslide"
    }
   },
   "source": [
    "~~~\n",
    "do{\n",
    "    //aqui va el bloque de codigo\n",
    "}while(condicion);\n",
    "~~~"
   ]
  },
  {
   "cell_type": "code",
   "execution_count": 4,
   "metadata": {
    "slideshow": {
     "slide_type": "subslide"
    }
   },
   "outputs": [
    {
     "name": "stdout",
     "output_type": "stream",
     "text": [
      "4\n",
      "8\n",
      "7\n",
      "10\n",
      "10 es multiplo de 5\n"
     ]
    }
   ],
   "source": [
    "int num;\n",
    "bool bandera = true; // variable bandera\n",
    "/*Una variable bandera nos sirve para indicar si hemos\n",
    "realizado una condicion anteriormente*/\n",
    "do{\n",
    "    cin >> num;\n",
    "    if(num % 5 == 0){\n",
    "        cout << num << \" es multiplo de 5\" << endl;\n",
    "        bandera = false;\n",
    "    }\n",
    "}while(bandera);"
   ]
  },
  {
   "cell_type": "markdown",
   "metadata": {
    "slideshow": {
     "slide_type": "slide"
    }
   },
   "source": [
    "## Bucles fijos"
   ]
  },
  {
   "cell_type": "markdown",
   "metadata": {
    "slideshow": {
     "slide_type": "subslide"
    }
   },
   "source": [
    "## `for`"
   ]
  },
  {
   "cell_type": "markdown",
   "metadata": {
    "slideshow": {
     "slide_type": "subslide"
    }
   },
   "source": [
    "~~~\n",
    "for(contador ; condicion ; incremento){\n",
    "    //aqui va el bloque de codigo\n",
    "}\n",
    "~~~"
   ]
  },
  {
   "cell_type": "code",
   "execution_count": 5,
   "metadata": {
    "slideshow": {
     "slide_type": "subslide"
    }
   },
   "outputs": [
    {
     "name": "stdout",
     "output_type": "stream",
     "text": [
      "3\n"
     ]
    }
   ],
   "source": [
    "#include<string>\n",
    "string palabra = \"OMIJAL 2019\";\n",
    "int contador = 0;\n",
    "for(int i = 0; i < palabra.length(); i++){\n",
    "    //contar vocales mayusculas\n",
    "    if(palabra[i] == 'A' || palabra[i] == 'E' || palabra[i] == 'I' \n",
    "       || palabra[i] == 'O' || palabra[i] == 'U'){\n",
    "        contador++;\n",
    "    }\n",
    "}\n",
    "cout << contador << endl;"
   ]
  },
  {
   "cell_type": "code",
   "execution_count": 6,
   "metadata": {
    "slideshow": {
     "slide_type": "subslide"
    }
   },
   "outputs": [
    {
     "name": "stdout",
     "output_type": "stream",
     "text": [
      "MJL 2019"
     ]
    }
   ],
   "source": [
    "for(int i = 0; i < palabra.length(); i++){\n",
    "    //quitar las vocales mayusculas\n",
    "    if(palabra[i] == 'A' || palabra[i] == 'E' || palabra[i] == 'I' \n",
    "       || palabra[i] == 'O' || palabra[i] == 'U'){\n",
    "        continue; // pasa a la siguiente iteracion sin realizar el \n",
    "                  // codigo debajo\n",
    "    }\n",
    "    cout << palabra[i];\n",
    "}"
   ]
  },
  {
   "cell_type": "markdown",
   "metadata": {
    "slideshow": {
     "slide_type": "slide"
    }
   },
   "source": [
    "## Bucles infinitos"
   ]
  },
  {
   "cell_type": "code",
   "execution_count": null,
   "metadata": {
    "slideshow": {
     "slide_type": "subslide"
    }
   },
   "outputs": [],
   "source": [
    "while(true){\n",
    "    //aqui va tu codigo\n",
    "}"
   ]
  },
  {
   "cell_type": "code",
   "execution_count": null,
   "metadata": {
    "slideshow": {
     "slide_type": "subslide"
    }
   },
   "outputs": [],
   "source": [
    "for(;;){\n",
    "    //aqui va tu codigo\n",
    "}"
   ]
  },
  {
   "cell_type": "markdown",
   "metadata": {
    "slideshow": {
     "slide_type": "slide"
    }
   },
   "source": [
    "## Actividad \n",
    "### Ejercicios en OmegaUp"
   ]
  }
 ],
 "metadata": {
  "celltoolbar": "Slideshow",
  "kernelspec": {
   "display_name": "C++11",
   "language": "C++11",
   "name": "xcpp11"
  },
  "language_info": {
   "codemirror_mode": "text/x-c++src",
   "file_extension": ".cpp",
   "mimetype": "text/x-c++src",
   "name": "c++",
   "version": "-std=c++11"
  }
 },
 "nbformat": 4,
 "nbformat_minor": 2
}

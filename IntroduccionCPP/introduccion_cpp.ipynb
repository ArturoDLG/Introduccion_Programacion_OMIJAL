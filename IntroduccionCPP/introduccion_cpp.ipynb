{
 "cells": [
  {
   "cell_type": "markdown",
   "metadata": {
    "slideshow": {
     "slide_type": "slide"
    }
   },
   "source": [
    "# Introducción a C++\n",
    "___"
   ]
  },
  {
   "cell_type": "markdown",
   "metadata": {
    "slideshow": {
     "slide_type": "slide"
    }
   },
   "source": [
    "## Que aprenderemos?\n",
    "* Conocer el lenguaje de programacion C++\n",
    "* Escribir nuestro \"Hola Mundo\" (partes de un codigo)\n",
    "* Como representar numeros y texto"
   ]
  },
  {
   "cell_type": "markdown",
   "metadata": {
    "slideshow": {
     "slide_type": "slide"
    }
   },
   "source": [
    "<center><img src=\"imagenes/binario.jpg\"></center>"
   ]
  },
  {
   "cell_type": "markdown",
   "metadata": {
    "slideshow": {
     "slide_type": "subslide"
    }
   },
   "source": [
    "<center><img src=\"imagenes/cpp.png\"></center>"
   ]
  },
  {
   "cell_type": "markdown",
   "metadata": {
    "slideshow": {
     "slide_type": "slide"
    }
   },
   "source": [
    "## \"Hola Mundo\" (primer codigo)\n",
    "___"
   ]
  },
  {
   "cell_type": "markdown",
   "metadata": {
    "slideshow": {
     "slide_type": "subslide"
    }
   },
   "source": [
    "### Partes del codigo"
   ]
  },
  {
   "cell_type": "markdown",
   "metadata": {
    "slideshow": {
     "slide_type": "subslide"
    }
   },
   "source": [
    "### Comentarios"
   ]
  },
  {
   "cell_type": "code",
   "execution_count": null,
   "metadata": {
    "slideshow": {
     "slide_type": "fragment"
    }
   },
   "outputs": [],
   "source": [
    "// Este es un comentario\n",
    "/*Este tambien es un comentario. Los comentarios sirven como un apoyo\n",
    "al programador para recordar que es lo que hace una seccion de codigo*/"
   ]
  },
  {
   "cell_type": "markdown",
   "metadata": {
    "slideshow": {
     "slide_type": "subslide"
    }
   },
   "source": [
    "### Blibliotecas / Librerias"
   ]
  },
  {
   "cell_type": "code",
   "execution_count": 1,
   "metadata": {
    "slideshow": {
     "slide_type": "fragment"
    }
   },
   "outputs": [],
   "source": [
    "#include<iostream> // Biblioteca para la entrada y salida de datos\n",
    "using namespace std; // indicamos que std sera implicito "
   ]
  },
  {
   "cell_type": "markdown",
   "metadata": {
    "slideshow": {
     "slide_type": "subslide"
    }
   },
   "source": [
    "### Funcion Principal / main"
   ]
  },
  {
   "cell_type": "code",
   "execution_count": null,
   "metadata": {
    "slideshow": {
     "slide_type": "fragment"
    }
   },
   "outputs": [],
   "source": [
    "int main(){\n",
    "    //Aqui va nuestro codigo\n",
    "    return 0;\n",
    "}"
   ]
  },
  {
   "cell_type": "markdown",
   "metadata": {
    "slideshow": {
     "slide_type": "subslide"
    }
   },
   "source": [
    "### Impresion de pantalla"
   ]
  },
  {
   "cell_type": "code",
   "execution_count": 2,
   "metadata": {
    "slideshow": {
     "slide_type": "fragment"
    }
   },
   "outputs": [
    {
     "name": "stdout",
     "output_type": "stream",
     "text": [
      "Hola Mundo\n"
     ]
    }
   ],
   "source": [
    "/*\n",
    "cout -> impresion de pantalla\n",
    "\"Hola Mundo\" -> Cadena de texto, se denota por las comillas dobles (\"\")\n",
    "endl -> indica un salto de linea, para imprimir en un nuevo renglon (\\n)\n",
    "*/\n",
    "cout << \"Hola Mundo\" << endl;"
   ]
  },
  {
   "cell_type": "markdown",
   "metadata": {
    "slideshow": {
     "slide_type": "slide"
    }
   },
   "source": [
    "## Tipos de datos y variables"
   ]
  },
  {
   "cell_type": "markdown",
   "metadata": {
    "slideshow": {
     "slide_type": "subslide"
    }
   },
   "source": [
    "### Numeros"
   ]
  },
  {
   "cell_type": "code",
   "execution_count": null,
   "metadata": {
    "slideshow": {
     "slide_type": "fragment"
    }
   },
   "outputs": [],
   "source": [
    "// De tipo entero (Naturales)\n",
    "int entero;\n",
    "int otro_entero = 10;"
   ]
  },
  {
   "cell_type": "code",
   "execution_count": null,
   "metadata": {
    "slideshow": {
     "slide_type": "subslide"
    }
   },
   "outputs": [],
   "source": [
    "// De tipo flotante (punto decimal)\n",
    "float decimal;\n",
    "float otro_decimal = 2.1416;"
   ]
  },
  {
   "cell_type": "markdown",
   "metadata": {
    "slideshow": {
     "slide_type": "subslide"
    }
   },
   "source": [
    "### Actividad\n",
    "Hacer un programa donde ingreses un numero entero y un numero flotante, e imprimir en pantalla los numeros ingresados de la siguiente manera:  "
   ]
  },
  {
   "cell_type": "markdown",
   "metadata": {
    "slideshow": {
     "slide_type": "subslide"
    }
   },
   "source": [
    "**Entrada**:\n",
    "> 10  \n",
    "7.5  \n",
    "\n",
    "**Salida**\n",
    "> Este es un numero entero: 10  \n",
    "Este es un numero flotante: 7.5"
   ]
  },
  {
   "cell_type": "code",
   "execution_count": 3,
   "metadata": {
    "slideshow": {
     "slide_type": "subslide"
    }
   },
   "outputs": [
    {
     "name": "stdout",
     "output_type": "stream",
     "text": [
      "Ingresa un numero entero: 10\n",
      "\n",
      "Ingresa un numero flotante: 7.5\n"
     ]
    }
   ],
   "source": [
    "int mi_entero;\n",
    "float mi_flotante;\n",
    "\n",
    "cout << \"Ingresa un numero entero: \";\n",
    "cin >> mi_entero; // cin lee los datos ingresados por consola\n",
    "cout << \"\\nIngresa un numero flotante: \";\n",
    "cin >> mi_flotante;"
   ]
  },
  {
   "cell_type": "code",
   "execution_count": 4,
   "metadata": {
    "slideshow": {
     "slide_type": "subslide"
    }
   },
   "outputs": [
    {
     "name": "stdout",
     "output_type": "stream",
     "text": [
      "Este es un numero entero: 10\n",
      "Este es un numero flotante: 7.5\n"
     ]
    }
   ],
   "source": [
    "cout << \"Este es un numero entero: \" << mi_entero << endl;\n",
    "cout << \"Este es un numero flotante: \" << mi_flotante << endl;"
   ]
  },
  {
   "cell_type": "markdown",
   "metadata": {
    "slideshow": {
     "slide_type": "subslide"
    }
   },
   "source": [
    "### Operaciones aritmeticas"
   ]
  },
  {
   "cell_type": "code",
   "execution_count": 5,
   "metadata": {
    "slideshow": {
     "slide_type": "fragment"
    }
   },
   "outputs": [
    {
     "name": "stdout",
     "output_type": "stream",
     "text": [
      "Suma = 23\n",
      "Suma = 7.5\n"
     ]
    }
   ],
   "source": [
    "// Suma (+)\n",
    "int a = 10, b = 13;\n",
    "float c = 5.25, d = 2.25;\n",
    "cout << \"Suma = \" << a + b << endl;\n",
    "cout << \"Suma = \" << c + d << endl;"
   ]
  },
  {
   "cell_type": "code",
   "execution_count": 6,
   "metadata": {
    "slideshow": {
     "slide_type": "subslide"
    }
   },
   "outputs": [
    {
     "name": "stdout",
     "output_type": "stream",
     "text": [
      "Resta = -3\n",
      "Resta = 3\n"
     ]
    }
   ],
   "source": [
    "// Resta (-)\n",
    "cout << \"Resta = \" << a - b << endl;\n",
    "cout << \"Resta = \" << c - d << endl;"
   ]
  },
  {
   "cell_type": "code",
   "execution_count": 7,
   "metadata": {
    "slideshow": {
     "slide_type": "subslide"
    }
   },
   "outputs": [
    {
     "name": "stdout",
     "output_type": "stream",
     "text": [
      "Multiplicacion = 130\n",
      "Multiplicacion = 11.8125\n"
     ]
    }
   ],
   "source": [
    "// Multiplicacion (*)\n",
    "cout << \"Multiplicacion = \" << a * b << endl;\n",
    "cout << \"Multiplicacion = \" << c * d << endl;"
   ]
  },
  {
   "cell_type": "code",
   "execution_count": 9,
   "metadata": {
    "slideshow": {
     "slide_type": "subslide"
    }
   },
   "outputs": [
    {
     "name": "stdout",
     "output_type": "stream",
     "text": [
      "Division = 0.769231\n",
      "Division = 2.33333\n"
     ]
    },
    {
     "data": {
      "text/plain": [
       "@0x7f0ef46c8b60"
      ]
     },
     "execution_count": 9,
     "metadata": {},
     "output_type": "execute_result"
    }
   ],
   "source": [
    "// Division\n",
    "cout << \"Division = \" << a / b << endl; // division entera\n",
    "cout << \"Division = \" << c / d << endl; // divisionn normal"
   ]
  },
  {
   "cell_type": "code",
   "execution_count": 10,
   "metadata": {
    "slideshow": {
     "slide_type": "subslide"
    }
   },
   "outputs": [
    {
     "name": "stdout",
     "output_type": "stream",
     "text": [
      "Residuo = 10\n",
      "Residuo = 1\n"
     ]
    }
   ],
   "source": [
    "// Modulo / Residuo (%)\n",
    "cout << \"Residuo = \" << a % b << endl;\n",
    "cout << \"Residuo = \" << 5 % 2 << endl;"
   ]
  },
  {
   "cell_type": "code",
   "execution_count": 11,
   "metadata": {
    "slideshow": {
     "slide_type": "subslide"
    }
   },
   "outputs": [
    {
     "name": "stdout",
     "output_type": "stream",
     "text": [
      "Antes de incrementar: 0\n",
      "Despues de incrementar: 1\n",
      "Despues de decrementar: 0\n"
     ]
    }
   ],
   "source": [
    "// incremento(++) y decremento(--)\n",
    "int contador = 0;\n",
    "cout << \"Antes de incrementar: \" << contador << endl;\n",
    "contador++;\n",
    "cout << \"Despues de incrementar: \" << contador << endl;\n",
    "contador--;\n",
    "cout << \"Despues de decrementar: \" << contador << endl;"
   ]
  },
  {
   "cell_type": "markdown",
   "metadata": {
    "slideshow": {
     "slide_type": "slide"
    }
   },
   "source": [
    "### Actividades\n",
    "* Calcular la suma, resta, multiplicacion y division de 2 numeros enteros\n",
    "* Calcular el area de un circulo con un radio **r**, con un valor de pi de 3.1416"
   ]
  },
  {
   "cell_type": "markdown",
   "metadata": {
    "slideshow": {
     "slide_type": "slide"
    }
   },
   "source": [
    "## Cadenas de texto (Strings)"
   ]
  },
  {
   "cell_type": "code",
   "execution_count": 12,
   "metadata": {
    "slideshow": {
     "slide_type": "fragment"
    }
   },
   "outputs": [
    {
     "name": "stdout",
     "output_type": "stream",
     "text": [
      "Hola a todos!\n"
     ]
    }
   ],
   "source": [
    "#include<string> // bibloteca para manejo de cadenas\n",
    "string saludo;\n",
    "string bienvenida = \"Hola a todos!\";\n",
    "cout << bienvenida << endl;"
   ]
  },
  {
   "cell_type": "code",
   "execution_count": 13,
   "metadata": {
    "slideshow": {
     "slide_type": "subslide"
    }
   },
   "outputs": [
    {
     "name": "stdout",
     "output_type": "stream",
     "text": [
      "OMIJAL\n",
      "Voy a participar en la competencia de OMIJAL\n"
     ]
    }
   ],
   "source": [
    "string competencia;\n",
    "cin >> competencia; // obteniendo una cadena escrita por el usuario\n",
    "cout << \"Voy a participar en la competencia de \" << competencia << endl;"
   ]
  },
  {
   "cell_type": "code",
   "execution_count": 14,
   "metadata": {
    "slideshow": {
     "slide_type": "subslide"
    }
   },
   "outputs": [
    {
     "name": "stdout",
     "output_type": "stream",
     "text": [
      "Luis Arturo\n",
      "Luis\n"
     ]
    }
   ],
   "source": [
    "string nombre;\n",
    "cin >> nombre; // cin lee hasta un final de caracter o un espacio en blanco\n",
    "cout << nombre << endl;"
   ]
  },
  {
   "cell_type": "code",
   "execution_count": 15,
   "metadata": {
    "slideshow": {
     "slide_type": "subslide"
    }
   },
   "outputs": [
    {
     "name": "stdout",
     "output_type": "stream",
     "text": [
      "Luis Arturo\n",
      "Luis Arturo\n"
     ]
    }
   ],
   "source": [
    "string nombres;\n",
    "getline(cin, nombres);\n",
    "cout << nombres << endl;"
   ]
  },
  {
   "cell_type": "markdown",
   "metadata": {
    "slideshow": {
     "slide_type": "subslide"
    }
   },
   "source": [
    "### Operaciones "
   ]
  },
  {
   "cell_type": "code",
   "execution_count": 19,
   "metadata": {
    "slideshow": {
     "slide_type": "subslide"
    }
   },
   "outputs": [
    {
     "name": "stdout",
     "output_type": "stream",
     "text": [
      "Ada Lovelace\n"
     ]
    }
   ],
   "source": [
    "// Concatenacion (+)\n",
    "string first_Name = \"Ada \", last_Name = \"Lovelace\";\n",
    "string fullName = first_Name + last_Name;\n",
    "cout << fullName << endl;"
   ]
  },
  {
   "cell_type": "code",
   "execution_count": 20,
   "metadata": {
    "slideshow": {
     "slide_type": "subslide"
    }
   },
   "outputs": [
    {
     "name": "stdout",
     "output_type": "stream",
     "text": [
      "La longitud del abecedario ingles es de 26\n"
     ]
    }
   ],
   "source": [
    "// Longitud \n",
    "string abecedario = \"ABCDEFGHIJKLMNOPQRSTUVWXYZ\";\n",
    "cout << \"La longitud del abecedario ingles es de \" << abecedario.length() << endl;"
   ]
  },
  {
   "cell_type": "code",
   "execution_count": 22,
   "metadata": {
    "slideshow": {
     "slide_type": "subslide"
    }
   },
   "outputs": [
    {
     "name": "stdout",
     "output_type": "stream",
     "text": [
      "Ingresa un numero del 0 al 25: 15\n",
      "\n",
      "La letra numero 15 en el abecedario ingles es: P\n"
     ]
    }
   ],
   "source": [
    "//Acceso a un caracter\n",
    "int pos;\n",
    "cout << \"Ingresa un numero del 0 al 25: \";\n",
    "cin >> pos; \n",
    "cout << \"La letra numero \" << pos << \" en el abecedario ingles es: \" << abecedario[pos] << endl;"
   ]
  },
  {
   "cell_type": "code",
   "execution_count": 23,
   "metadata": {
    "slideshow": {
     "slide_type": "subslide"
    }
   },
   "outputs": [
    {
     "name": "stdout",
     "output_type": "stream",
     "text": [
      "CUValles\n"
     ]
    }
   ],
   "source": [
    "// Cambiar un caracter de una cadena\n",
    "string centro_universitario = \"CUBalles\";\n",
    "centro_universitario[2] = 'V';\n",
    "cout << centro_universitario << endl;"
   ]
  },
  {
   "cell_type": "markdown",
   "metadata": {
    "slideshow": {
     "slide_type": "slide"
    }
   },
   "source": [
    "## Actividades\n",
    "* Solicitar nombre y municipio de una persona, y mostrar en pantalla el siguiente mensaje: Hola mi nombre es \"nombre\", y soy de \"municipio\"\n",
    "* Ingresar una frase, pedir una letra y numero(entre 1 y la longitud de la frase), y colocar la letra en la posicion dada"
   ]
  }
 ],
 "metadata": {
  "celltoolbar": "Slideshow",
  "kernelspec": {
   "display_name": "C++11",
   "language": "C++11",
   "name": "xcpp11"
  },
  "language_info": {
   "codemirror_mode": "text/x-c++src",
   "file_extension": ".cpp",
   "mimetype": "text/x-c++src",
   "name": "c++",
   "version": "-std=c++11"
  }
 },
 "nbformat": 4,
 "nbformat_minor": 2
}

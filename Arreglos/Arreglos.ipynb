{
 "cells": [
  {
   "cell_type": "markdown",
   "metadata": {
    "slideshow": {
     "slide_type": "slide"
    }
   },
   "source": [
    "# Arreglos en C++"
   ]
  },
  {
   "cell_type": "markdown",
   "metadata": {
    "slideshow": {
     "slide_type": "slide"
    }
   },
   "source": [
    "## Que aprenderemos?\n",
    "* Que es un arreglo?\n",
    "* Arreglos fijos vs dinamicos\n",
    "* Ejemplos de uso"
   ]
  },
  {
   "cell_type": "markdown",
   "metadata": {
    "slideshow": {
     "slide_type": "slide"
    }
   },
   "source": [
    "## Que es un arreglo?"
   ]
  },
  {
   "cell_type": "markdown",
   "metadata": {
    "slideshow": {
     "slide_type": "subslide"
    }
   },
   "source": [
    "<center><img src=\"imagenes/Arrays.png\"></center>"
   ]
  },
  {
   "cell_type": "markdown",
   "metadata": {
    "slideshow": {
     "slide_type": "subslide"
    }
   },
   "source": [
    "* int\n",
    "* float\n",
    "* char\n",
    "* string\n",
    "* otros arreglos"
   ]
  },
  {
   "cell_type": "markdown",
   "metadata": {
    "slideshow": {
     "slide_type": "slide"
    }
   },
   "source": [
    "## Arreglos fijos"
   ]
  },
  {
   "cell_type": "markdown",
   "metadata": {
    "slideshow": {
     "slide_type": "subslide"
    }
   },
   "source": [
    "~~~\n",
    "tipo nombre_variable[cantidad];\n",
    "tipo nombre_variable[cantidad] = {<elementos>...};\n",
    "~~~"
   ]
  },
  {
   "cell_type": "code",
   "execution_count": 2,
   "metadata": {
    "slideshow": {
     "slide_type": "subslide"
    }
   },
   "outputs": [
    {
     "name": "stdout",
     "output_type": "stream",
     "text": [
      "0\n",
      "2\n",
      "4\n",
      "6\n",
      "8\n"
     ]
    }
   ],
   "source": [
    "#include<iostream>\n",
    "using namespace std;\n",
    "\n",
    "int pares[5] = {0, 2, 4, 6, 8};\n",
    "for(int i = 0; i < 5; i++){\n",
    "    cout << pares[i] << endl;\n",
    "} "
   ]
  },
  {
   "cell_type": "code",
   "execution_count": 3,
   "metadata": {
    "slideshow": {
     "slide_type": "subslide"
    }
   },
   "outputs": [
    {
     "name": "stdout",
     "output_type": "stream",
     "text": [
      "10 20 0 0 0 "
     ]
    }
   ],
   "source": [
    "int numeros[5] = {10, 20};\n",
    "for(int i = 0; i < 5; i++)\n",
    "    cout << numeros[i] << \" \";"
   ]
  },
  {
   "cell_type": "code",
   "execution_count": 4,
   "metadata": {
    "slideshow": {
     "slide_type": "subslide"
    }
   },
   "outputs": [
    {
     "name": "stdout",
     "output_type": "stream",
     "text": [
      "oso"
     ]
    }
   ],
   "source": [
    "char animal[] = {'o','s','o'};\n",
    "for(int i = 0; i < 3; i++)\n",
    "    cout << animal[i];"
   ]
  },
  {
   "cell_type": "markdown",
   "metadata": {
    "slideshow": {
     "slide_type": "subslide"
    }
   },
   "source": [
    "## Ingresar valores a un arreglo"
   ]
  },
  {
   "cell_type": "code",
   "execution_count": 5,
   "metadata": {
    "slideshow": {
     "slide_type": "fragment"
    }
   },
   "outputs": [
    {
     "name": "stdout",
     "output_type": "stream",
     "text": [
      "1.5\n",
      "2.5\n",
      "3.4\n",
      "1.25\n",
      "\n",
      "1.5 2.5 3.4 1.25 "
     ]
    }
   ],
   "source": [
    "float alturas[4];\n",
    "for(int i = 0; i < 4; i++)\n",
    "    cin >> alturas[i]; // ingresar valores\n",
    "\n",
    "cout << endl;\n",
    "\n",
    "for(int j = 0; j < 4; j++)\n",
    "    cout << alturas[j] << \" \"; //imprimir el contenido del arreglo "
   ]
  },
  {
   "cell_type": "markdown",
   "metadata": {
    "slideshow": {
     "slide_type": "slide"
    }
   },
   "source": [
    "## Arreglos dinamicos"
   ]
  },
  {
   "cell_type": "markdown",
   "metadata": {
    "slideshow": {
     "slide_type": "subslide"
    }
   },
   "source": [
    "~~~\n",
    "vector<tipo> nombre_variable;\n",
    "vector<tipo> nombre_variable = {...};\n",
    "~~~"
   ]
  },
  {
   "cell_type": "code",
   "execution_count": 6,
   "metadata": {
    "slideshow": {
     "slide_type": "subslide"
    }
   },
   "outputs": [
    {
     "name": "stdout",
     "output_type": "stream",
     "text": [
      "0\n",
      "3\n"
     ]
    }
   ],
   "source": [
    "#include<vector>\n",
    "#include<string>\n",
    "\n",
    "vector<string> lista;\n",
    "cout << lista.size() << endl;\n",
    "lista.push_back(\"Andres\");\n",
    "lista.push_back(\"Beatriz\");\n",
    "lista.push_back(\"Filiberto\");\n",
    "cout << lista.size() << endl;"
   ]
  },
  {
   "cell_type": "code",
   "execution_count": 7,
   "metadata": {
    "slideshow": {
     "slide_type": "subslide"
    }
   },
   "outputs": [
    {
     "name": "stdout",
     "output_type": "stream",
     "text": [
      "Andres\n",
      "Beatriz\n",
      "Filiberto\n"
     ]
    }
   ],
   "source": [
    "for(int i = 0; i < lista.size(); i++)\n",
    "    cout << lista[i] << endl;"
   ]
  },
  {
   "cell_type": "code",
   "execution_count": 8,
   "metadata": {
    "slideshow": {
     "slide_type": "subslide"
    }
   },
   "outputs": [
    {
     "name": "stdout",
     "output_type": "stream",
     "text": [
      "A\n",
      "A n d r e s B e a t r i z F i l i b e r t o "
     ]
    }
   ],
   "source": [
    "cout << lista[0][0] << endl;\n",
    "for(int i = 0; i < lista.size(); i++){\n",
    "    for(int j = 0; j < lista[i].length(); j++){\n",
    "        cout << lista[i][j] << \" \";\n",
    "    }\n",
    "}"
   ]
  },
  {
   "cell_type": "code",
   "execution_count": 9,
   "metadata": {
    "slideshow": {
     "slide_type": "subslide"
    }
   },
   "outputs": [
    {
     "name": "stdout",
     "output_type": "stream",
     "text": [
      "3\n",
      "15\n",
      "30\n"
     ]
    }
   ],
   "source": [
    "vector<int> multiplos_tres;\n",
    "for(int i = 3; i <= 30; ){\n",
    "    multiplos_tres.push_back(i);\n",
    "    i+=3;\n",
    "}\n",
    "cout << multiplos_tres[0] << endl;\n",
    "cout << multiplos_tres[4] << endl;\n",
    "cout << multiplos_tres[9] << endl;"
   ]
  },
  {
   "cell_type": "markdown",
   "metadata": {
    "slideshow": {
     "slide_type": "subslide"
    }
   },
   "source": [
    "## Insertar un elemento en una posicion"
   ]
  },
  {
   "cell_type": "code",
   "execution_count": 10,
   "metadata": {
    "slideshow": {
     "slide_type": "subslide"
    }
   },
   "outputs": [
    {
     "name": "stdout",
     "output_type": "stream",
     "text": [
      "Andres\n",
      "Denisse\n",
      "Andres\n",
      "Juan\n"
     ]
    }
   ],
   "source": [
    "cout << lista[0] << endl;\n",
    "lista.insert(lista.begin(), \"Denisse\");\n",
    "cout << lista[0] << endl;\n",
    "cout << lista[1] << endl;\n",
    "lista.insert(lista.begin() + 1, \"Juan\");\n",
    "cout << lista[1] << endl;"
   ]
  },
  {
   "cell_type": "code",
   "execution_count": 11,
   "metadata": {
    "slideshow": {
     "slide_type": "subslide"
    }
   },
   "outputs": [
    {
     "name": "stdout",
     "output_type": "stream",
     "text": [
      "Filiberto\n",
      "Claudia\n"
     ]
    }
   ],
   "source": [
    "cout << lista[4] << endl;\n",
    "lista.insert(lista.end(), \"Claudia\");\n",
    "cout << lista[5] << endl;"
   ]
  },
  {
   "cell_type": "markdown",
   "metadata": {
    "slideshow": {
     "slide_type": "subslide"
    }
   },
   "source": [
    "## Eliminar elementos de una posicion"
   ]
  },
  {
   "cell_type": "code",
   "execution_count": 12,
   "metadata": {
    "slideshow": {
     "slide_type": "subslide"
    }
   },
   "outputs": [
    {
     "name": "stdout",
     "output_type": "stream",
     "text": [
      "3\n",
      "6\n"
     ]
    }
   ],
   "source": [
    "cout << multiplos_tres[0] << endl;\n",
    "multiplos_tres.erase(multiplos_tres.begin()); \n",
    "cout << multiplos_tres[0] << endl;"
   ]
  },
  {
   "cell_type": "markdown",
   "metadata": {
    "slideshow": {
     "slide_type": "subslide"
    }
   },
   "source": [
    "## Eliminar elementos"
   ]
  },
  {
   "cell_type": "code",
   "execution_count": 15,
   "metadata": {
    "slideshow": {
     "slide_type": "subslide"
    }
   },
   "outputs": [
    {
     "name": "stdout",
     "output_type": "stream",
     "text": [
      "9\n",
      "30 30 27 24 21 18 15 12 9 "
     ]
    }
   ],
   "source": [
    "int i = multiplos_tres.size(); \n",
    "cout << i << endl;\n",
    "while(multiplos_tres.empty() == false){ //mientras el vector no este vacio\n",
    "    cout << multiplos_tres[i] << \" \";\n",
    "    multiplos_tres.pop_back(); //eliminar el ultimo elemento\n",
    "    i--;\n",
    "}"
   ]
  },
  {
   "cell_type": "markdown",
   "metadata": {
    "slideshow": {
     "slide_type": "slide"
    }
   },
   "source": [
    "## Fijo vs Dinamico"
   ]
  },
  {
   "cell_type": "markdown",
   "metadata": {
    "slideshow": {
     "slide_type": "subslide"
    }
   },
   "source": [
    "## Fijo\n",
    "### Ventajas\n",
    "* Es mas sencillo de usar\n",
    "* No requiere incluir libreria"
   ]
  },
  {
   "cell_type": "markdown",
   "metadata": {
    "slideshow": {
     "slide_type": "subslide"
    }
   },
   "source": [
    "### Desventajas\n",
    "* Para operaciones mas complejas es complicado de usar \n",
    "* No podemos modificar el tamaño "
   ]
  },
  {
   "cell_type": "markdown",
   "metadata": {
    "slideshow": {
     "slide_type": "subslide"
    }
   },
   "source": [
    "## Dinamico\n",
    "### Ventajas\n",
    "* Se puede realizar operaciones complejas con gran facilidad\n",
    "* Podemos hacer variar el tamaño "
   ]
  },
  {
   "cell_type": "markdown",
   "metadata": {
    "slideshow": {
     "slide_type": "subslide"
    }
   },
   "source": [
    "## Desventajas \n",
    "* Requiere usar una libreria\n",
    "* Algunas de sus funciones requieren conceptos mas complejos"
   ]
  },
  {
   "cell_type": "markdown",
   "metadata": {
    "slideshow": {
     "slide_type": "slide"
    }
   },
   "source": [
    "## Tips"
   ]
  },
  {
   "cell_type": "markdown",
   "metadata": {
    "slideshow": {
     "slide_type": "subslide"
    }
   },
   "source": [
    "## Cuando usar arreglos"
   ]
  },
  {
   "cell_type": "code",
   "execution_count": 19,
   "metadata": {
    "slideshow": {
     "slide_type": "subslide"
    }
   },
   "outputs": [
    {
     "name": "stdout",
     "output_type": "stream",
     "text": [
      "1 2 3 \n",
      "1 2 3 "
     ]
    }
   ],
   "source": [
    "vector<int> v = {1,2,3};\n",
    "for(int i : v) // visualizar los elementos de v\n",
    "    cout << i << \" \";\n",
    "\n",
    "cout << endl;\n",
    "\n",
    "for(auto j : v) \n",
    "    cout << j << \" \";"
   ]
  },
  {
   "cell_type": "markdown",
   "metadata": {
    "slideshow": {
     "slide_type": "slide"
    }
   },
   "source": [
    "## Actividades\n",
    "* Dado un grupo __n__ de numeros, buscar aquellos que son multiplos de __k__ y mostrarlos en una linea\n",
    "* Dado un grupo de __n__ nombres, buscar aquellos que inicien con una letra solicitada"
   ]
  }
 ],
 "metadata": {
  "celltoolbar": "Slideshow",
  "kernelspec": {
   "display_name": "C++11",
   "language": "C++11",
   "name": "xcpp11"
  },
  "language_info": {
   "codemirror_mode": "text/x-c++src",
   "file_extension": ".cpp",
   "mimetype": "text/x-c++src",
   "name": "c++",
   "version": "-std=c++11"
  }
 },
 "nbformat": 4,
 "nbformat_minor": 2
}
